{
  "nbformat": 4,
  "nbformat_minor": 0,
  "metadata": {
    "colab": {
      "provenance": []
    },
    "kernelspec": {
      "name": "python3",
      "display_name": "Python 3"
    },
    "language_info": {
      "name": "python"
    }
  },
  "cells": [
    {
      "cell_type": "code",
      "execution_count": null,
      "metadata": {
        "id": "SpvCAPClvH8h"
      },
      "outputs": [],
      "source": [
        "import pandas as pd\n",
        "import matplotlib.pyplot as plt\n",
        "import seaborn as sns\n",
        "\n",
        "dataset = pd.read_excel(\"HousePricePrediction.xlsx\")\n",
        "\n",
        "print(dataset.head(5))"
      ]
    },
    {
      "cell_type": "code",
      "source": [
        "dataset.shape"
      ],
      "metadata": {
        "id": "8aanD1g6vKRH"
      },
      "execution_count": null,
      "outputs": []
    },
    {
      "cell_type": "code",
      "source": [
        "obj = (dataset.dtypes == 'object')\n",
        "object_cols = list(obj[obj].index)\n",
        "print(\"Categorical variables:\",len(object_cols))\n",
        "\n",
        "int_ = (dataset.dtypes == 'int')\n",
        "num_cols = list(int_[int_].index)\n",
        "print(\"Integer variables:\",len(num_cols))\n",
        "\n",
        "fl = (dataset.dtypes == 'float')\n",
        "fl_cols = list(fl[fl].index)\n",
        "print(\"Float variables:\",len(fl_cols))"
      ],
      "metadata": {
        "id": "PIXBb_ievLwz"
      },
      "execution_count": null,
      "outputs": []
    },
    {
      "cell_type": "code",
      "source": [
        "numerical_dataset = dataset.select_dtypes(include=['number'])\n",
        "\n",
        "plt.figure(figsize=(12, 6))\n",
        "sns.heatmap(numerical_dataset.corr(),\n",
        "            cmap = 'BrBG',\n",
        "            fmt = '.2f',\n",
        "            linewidths = 2,\n",
        "            annot = True)"
      ],
      "metadata": {
        "id": "bbxlwwmdvLtZ"
      },
      "execution_count": null,
      "outputs": []
    },
    {
      "cell_type": "code",
      "source": [
        "unique_values = []\n",
        "for col in object_cols:\n",
        "  unique_values.append(dataset[col].unique().size)\n",
        "plt.figure(figsize=(10,6))\n",
        "plt.title('No. Unique values of Categorical Features')\n",
        "plt.xticks(rotation=90)\n",
        "sns.barplot(x=object_cols,y=unique_values)"
      ],
      "metadata": {
        "id": "CkpyLRNXvLo9"
      },
      "execution_count": null,
      "outputs": []
    },
    {
      "cell_type": "code",
      "source": [
        "plt.figure(figsize=(18, 36))\n",
        "plt.title('Categorical Features: Distribution')\n",
        "plt.xticks(rotation=90)\n",
        "index = 1\n",
        "\n",
        "for col in object_cols:\n",
        "    y = dataset[col].value_counts()\n",
        "    plt.subplot(11, 4, index)\n",
        "    plt.xticks(rotation=90)\n",
        "    sns.barplot(x=list(y.index), y=y)\n",
        "    index += 1"
      ],
      "metadata": {
        "id": "NL_PFK-GvLiT"
      },
      "execution_count": null,
      "outputs": []
    },
    {
      "cell_type": "code",
      "source": [
        "dataset.drop(['Id'],\n",
        "             axis=1,\n",
        "             inplace=True)"
      ],
      "metadata": {
        "id": "-f7rN1ZhvLc_"
      },
      "execution_count": null,
      "outputs": []
    },
    {
      "cell_type": "code",
      "source": [
        "dataset['SalePrice'] = dataset['SalePrice'].fillna(\n",
        "  dataset['SalePrice'].mean())"
      ],
      "metadata": {
        "id": "8_mVcPWfvLWs"
      },
      "execution_count": null,
      "outputs": []
    },
    {
      "cell_type": "code",
      "source": [
        "new_dataset = dataset.dropna()"
      ],
      "metadata": {
        "id": "c0l74lfOvLPZ"
      },
      "execution_count": null,
      "outputs": []
    },
    {
      "cell_type": "code",
      "source": [
        "new_dataset.isnull().sum()"
      ],
      "metadata": {
        "id": "yUwvERPVvLGw"
      },
      "execution_count": null,
      "outputs": []
    },
    {
      "cell_type": "code",
      "source": [
        "from sklearn.preprocessing import OneHotEncoder\n",
        "\n",
        "s = (new_dataset.dtypes == 'object')\n",
        "object_cols = list(s[s].index)\n",
        "print(\"Categorical variables:\")\n",
        "print(object_cols)\n",
        "print('No. of. categorical features: ',\n",
        "      len(object_cols))"
      ],
      "metadata": {
        "id": "eqPORNhgvKzc"
      },
      "execution_count": null,
      "outputs": []
    },
    {
      "cell_type": "code",
      "source": [
        "OH_encoder = OneHotEncoder(sparse_output=False, handle_unknown='ignore')\n",
        "OH_cols = pd.DataFrame(OH_encoder.fit_transform(new_dataset[object_cols]))\n",
        "OH_cols.index = new_dataset.index\n",
        "OH_cols.columns = OH_encoder.get_feature_names_out()\n",
        "df_final = new_dataset.drop(object_cols, axis=1)\n",
        "df_final = pd.concat([df_final, OH_cols], axis=1)"
      ],
      "metadata": {
        "id": "wLmBWr1JvfIM"
      },
      "execution_count": null,
      "outputs": []
    },
    {
      "cell_type": "code",
      "source": [
        "from sklearn.metrics import mean_absolute_error\n",
        "from sklearn.model_selection import train_test_split\n",
        "\n",
        "X = df_final.drop(['SalePrice'], axis=1)\n",
        "Y = df_final['SalePrice']\n",
        "\n",
        "X_train, X_valid, Y_train, Y_valid = train_test_split(\n",
        "    X, Y, train_size=0.8, test_size=0.2, random_state=0)"
      ],
      "metadata": {
        "id": "YXerjXQpve_6"
      },
      "execution_count": null,
      "outputs": []
    },
    {
      "cell_type": "code",
      "source": [
        "from sklearn import svm\n",
        "from sklearn.svm import SVC\n",
        "from sklearn.metrics import mean_absolute_percentage_error\n",
        "\n",
        "model_SVR = svm.SVR()\n",
        "model_SVR.fit(X_train,Y_train)\n",
        "Y_pred = model_SVR.predict(X_valid)\n",
        "\n",
        "print(mean_absolute_percentage_error(Y_valid, Y_pred))"
      ],
      "metadata": {
        "id": "My6zjD0PviuH"
      },
      "execution_count": null,
      "outputs": []
    },
    {
      "cell_type": "code",
      "source": [
        "from sklearn.ensemble import RandomForestRegressor\n",
        "\n",
        "model_RFR = RandomForestRegressor(n_estimators=10)\n",
        "model_RFR.fit(X_train, Y_train)\n",
        "Y_pred = model_RFR.predict(X_valid)\n",
        "\n",
        "mean_absolute_percentage_error(Y_valid, Y_pred)"
      ],
      "metadata": {
        "id": "ZQRIlsxrvipm"
      },
      "execution_count": null,
      "outputs": []
    },
    {
      "cell_type": "code",
      "source": [
        "from sklearn.linear_model import LinearRegression\n",
        "\n",
        "model_LR = LinearRegression()\n",
        "model_LR.fit(X_train, Y_train)\n",
        "Y_pred = model_LR.predict(X_valid)\n",
        "\n",
        "print(mean_absolute_percentage_error(Y_valid, Y_pred))"
      ],
      "metadata": {
        "id": "yyhxY_LRviib"
      },
      "execution_count": null,
      "outputs": []
    }
  ]
}